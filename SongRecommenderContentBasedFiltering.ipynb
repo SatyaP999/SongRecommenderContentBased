{
 "cells": [
  {
   "cell_type": "code",
   "execution_count": 1,
   "id": "f3323a2b",
   "metadata": {},
   "outputs": [],
   "source": [
    "import numpy as np\n",
    "import pandas as pd\n",
    "import matplotlib.pyplot as plt\n",
    "import seaborn as snsb"
   ]
  },
  {
   "cell_type": "code",
   "execution_count": 2,
   "id": "f69c4077",
   "metadata": {},
   "outputs": [],
   "source": [
    "from sklearn.feature_extraction.text import TfidfVectorizer\n",
    "from sklearn.metrics.pairwise import cosine_similarity"
   ]
  },
  {
   "cell_type": "code",
   "execution_count": 3,
   "id": "017960f3",
   "metadata": {},
   "outputs": [],
   "source": [
    "songs = pd.read_csv('songdata.csv')"
   ]
  },
  {
   "cell_type": "code",
   "execution_count": 4,
   "id": "9b7adf88",
   "metadata": {},
   "outputs": [
    {
     "data": {
      "text/html": [
       "<div>\n",
       "<style scoped>\n",
       "    .dataframe tbody tr th:only-of-type {\n",
       "        vertical-align: middle;\n",
       "    }\n",
       "\n",
       "    .dataframe tbody tr th {\n",
       "        vertical-align: top;\n",
       "    }\n",
       "\n",
       "    .dataframe thead th {\n",
       "        text-align: right;\n",
       "    }\n",
       "</style>\n",
       "<table border=\"1\" class=\"dataframe\">\n",
       "  <thead>\n",
       "    <tr style=\"text-align: right;\">\n",
       "      <th></th>\n",
       "      <th>artist</th>\n",
       "      <th>song</th>\n",
       "      <th>link</th>\n",
       "      <th>text</th>\n",
       "    </tr>\n",
       "  </thead>\n",
       "  <tbody>\n",
       "    <tr>\n",
       "      <th>0</th>\n",
       "      <td>ABBA</td>\n",
       "      <td>Ahe's My Kind Of Girl</td>\n",
       "      <td>/a/abba/ahes+my+kind+of+girl_20598417.html</td>\n",
       "      <td>Look at her face, it's a wonderful face  \\nAnd...</td>\n",
       "    </tr>\n",
       "    <tr>\n",
       "      <th>1</th>\n",
       "      <td>ABBA</td>\n",
       "      <td>Andante, Andante</td>\n",
       "      <td>/a/abba/andante+andante_20002708.html</td>\n",
       "      <td>Take it easy with me, please  \\nTouch me gentl...</td>\n",
       "    </tr>\n",
       "    <tr>\n",
       "      <th>2</th>\n",
       "      <td>ABBA</td>\n",
       "      <td>As Good As New</td>\n",
       "      <td>/a/abba/as+good+as+new_20003033.html</td>\n",
       "      <td>I'll never know why I had to go  \\nWhy I had t...</td>\n",
       "    </tr>\n",
       "    <tr>\n",
       "      <th>3</th>\n",
       "      <td>ABBA</td>\n",
       "      <td>Bang</td>\n",
       "      <td>/a/abba/bang_20598415.html</td>\n",
       "      <td>Making somebody happy is a question of give an...</td>\n",
       "    </tr>\n",
       "    <tr>\n",
       "      <th>4</th>\n",
       "      <td>ABBA</td>\n",
       "      <td>Bang-A-Boomerang</td>\n",
       "      <td>/a/abba/bang+a+boomerang_20002668.html</td>\n",
       "      <td>Making somebody happy is a question of give an...</td>\n",
       "    </tr>\n",
       "  </tbody>\n",
       "</table>\n",
       "</div>"
      ],
      "text/plain": [
       "  artist                   song                                        link  \\\n",
       "0   ABBA  Ahe's My Kind Of Girl  /a/abba/ahes+my+kind+of+girl_20598417.html   \n",
       "1   ABBA       Andante, Andante       /a/abba/andante+andante_20002708.html   \n",
       "2   ABBA         As Good As New        /a/abba/as+good+as+new_20003033.html   \n",
       "3   ABBA                   Bang                  /a/abba/bang_20598415.html   \n",
       "4   ABBA       Bang-A-Boomerang      /a/abba/bang+a+boomerang_20002668.html   \n",
       "\n",
       "                                                text  \n",
       "0  Look at her face, it's a wonderful face  \\nAnd...  \n",
       "1  Take it easy with me, please  \\nTouch me gentl...  \n",
       "2  I'll never know why I had to go  \\nWhy I had t...  \n",
       "3  Making somebody happy is a question of give an...  \n",
       "4  Making somebody happy is a question of give an...  "
      ]
     },
     "execution_count": 4,
     "metadata": {},
     "output_type": "execute_result"
    }
   ],
   "source": [
    "songs.head()"
   ]
  },
  {
   "cell_type": "code",
   "execution_count": 5,
   "id": "a5608770",
   "metadata": {},
   "outputs": [
    {
     "name": "stderr",
     "output_type": "stream",
     "text": [
      "C:\\Users\\prane\\AppData\\Local\\Temp\\ipykernel_6944\\2750878308.py:5: FutureWarning: The default value of regex will change from True to False in a future version.\n",
      "  songs['text'] = songs['text'].str.replace(r'\\n', '')\n"
     ]
    }
   ],
   "source": [
    "#resample only 5000 songs\n",
    "songs = songs.sample(n=5000).drop('link', axis=1).reset_index(drop=True)\n",
    "\n",
    "#replace \\n in the text\n",
    "songs['text'] = songs['text'].str.replace(r'\\n', '')\n",
    "\n",
    "#intialize the tf-idf vector\n",
    "tfidf = TfidfVectorizer(analyzer = 'word', stop_words='english')\n",
    "\n",
    "#fit and transform tfidf\n",
    "\n",
    "#The fit() method calculates the various required parameters, and the transform() method applies\n",
    "#the calculated parameters to standardize the data. In the case of the StandardScaler(), \n",
    "#the mean and the standard deviation are calculated and the data is scaled and centered to have \n",
    "#a mean of 0 and a standard deviation of 1 and it is a method from preprocessing class in sklearn\n",
    "\n",
    "lyrics_matrix = tfidf.fit_transform(songs['text'])"
   ]
  },
  {
   "cell_type": "code",
   "execution_count": 6,
   "id": "31c983f4",
   "metadata": {},
   "outputs": [],
   "source": [
    "cosine_similarities = cosine_similarity(lyrics_matrix)\n",
    "\n",
    "# creating a dictionary\n",
    "similarities = {}\n",
    "\n",
    "#50 most similar songs to each song in our data set\n",
    "for i in range(len(cosine_similarities)):\n",
    "    \n",
    "    # Now we'll sort each element in cosine_similarities and get the indexes of the songs.\n",
    "    similar_indices = cosine_similarities[i].argsort()[:-50:-1]\n",
    "    \n",
    "    # After that, we'll store in similarities each name of the 50 most similar songs.\n",
    "    # Except the first one that is the same song.\n",
    "    #iloc will retrieve rows\n",
    "    similarities[songs['song'].iloc[i]] = [(cosine_similarities[i][x], songs['song'][x], \n",
    "                                           songs['artist'][x]) for x in similar_indices][1:]\n"
   ]
  },
  {
   "cell_type": "code",
   "execution_count": 18,
   "id": "e8ca010e",
   "metadata": {},
   "outputs": [],
   "source": [
    "# create a class ContentBased Recommender\n",
    "class ContentBasedRecommender:\n",
    "    def __init__(self, matrix):\n",
    "        self.matrix_similar = matrix\n",
    "        \n",
    "    def _print_message(self, song, recom_song):\n",
    "        rec_items = len(recom_song)\n",
    "        \n",
    "        print(f'The {rec_items} recommended songs for {song} are:')\n",
    "        for i in range(rec_items):\n",
    "            print(f\"Number{i+1}: \")\n",
    "            print(f\"{recom_song[i][1]} by {recom_song[i][2]} with {round(recom_song[i][0], 3)} similarity score\")\n",
    "            print(\"--------------------\")\n",
    "            \n",
    "    def recommend(self, recommendation):\n",
    "        #Get song to find recommendations for\n",
    "        song = recommendation['song']\n",
    "        #Get number of songs to recommend\n",
    "        number_songs = recommendation['number_songs']\n",
    "        #Get number of songs most similar from the matrix similarities\n",
    "        recom_song = self.matrix_similar[song][:number_songs]\n",
    "        #print each item\n",
    "        self._print_message(song = song, recom_song = recom_song)\n",
    "              "
   ]
  },
  {
   "cell_type": "code",
   "execution_count": 19,
   "id": "85fa85cd",
   "metadata": {},
   "outputs": [],
   "source": [
    "#Now, instantiate the class\n",
    "\n",
    "recommendations = ContentBasedRecommender(similarities)"
   ]
  },
  {
   "cell_type": "code",
   "execution_count": 20,
   "id": "957001cf",
   "metadata": {},
   "outputs": [],
   "source": [
    "#Pick a song from the data set and make a recommendation\n",
    "recommendation = {\n",
    "    \"song\":songs['song'].iloc[10],\n",
    "    \"number_songs\":4\n",
    "}"
   ]
  },
  {
   "cell_type": "code",
   "execution_count": 21,
   "id": "60c2aff6",
   "metadata": {},
   "outputs": [
    {
     "name": "stdout",
     "output_type": "stream",
     "text": [
      "The 4 recommended songs for Exactly Like You are:\n",
      "Number1: \n",
      "Someone Like You by John Waite with 0.279 similarity score\n",
      "--------------------\n",
      "Number2: \n",
      "Love Is Just Around The Corner -(With Take 6) by Kenny Rogers with 0.245 similarity score\n",
      "--------------------\n",
      "Number3: \n",
      "If I Knew What I Know Now by Kenny Rogers with 0.221 similarity score\n",
      "--------------------\n",
      "Number4: \n",
      "I Want To Know What Love Is by Mariah Carey with 0.215 similarity score\n",
      "--------------------\n"
     ]
    }
   ],
   "source": [
    "recommendations.recommend(recommendation)"
   ]
  },
  {
   "cell_type": "code",
   "execution_count": 22,
   "id": "7f77f6fa",
   "metadata": {},
   "outputs": [],
   "source": [
    "#pick up another random song\n",
    "\n",
    "recommendation2 = {\n",
    "    \"song\": songs['song'].iloc[120],\n",
    "    \"number_songs\": 6\n",
    "}"
   ]
  },
  {
   "cell_type": "code",
   "execution_count": 23,
   "id": "f7407548",
   "metadata": {},
   "outputs": [
    {
     "name": "stdout",
     "output_type": "stream",
     "text": [
      "The 6 recommended songs for Evening In June are:\n",
      "Number1: \n",
      "I'll Be On My Way by The Beatles with 0.339 similarity score\n",
      "--------------------\n",
      "Number2: \n",
      "Evening Star by Judas Priest with 0.322 similarity score\n",
      "--------------------\n",
      "Number3: \n",
      "A Lovely Way To Spend An Evening by Engelbert Humperdinck with 0.293 similarity score\n",
      "--------------------\n",
      "Number4: \n",
      "In The Valley (Where The Evening Sun Goes Down) by Judy Garland with 0.267 similarity score\n",
      "--------------------\n",
      "Number5: \n",
      "Cliches by Jimmy Buffett with 0.149 similarity score\n",
      "--------------------\n",
      "Number6: \n",
      "Everyone's Gone To The Moon by Nina Simone with 0.142 similarity score\n",
      "--------------------\n"
     ]
    }
   ],
   "source": [
    "recommendations.recommend(recommendation2)"
   ]
  },
  {
   "cell_type": "code",
   "execution_count": null,
   "id": "923ef501",
   "metadata": {},
   "outputs": [],
   "source": []
  }
 ],
 "metadata": {
  "kernelspec": {
   "display_name": "Python 3 (ipykernel)",
   "language": "python",
   "name": "python3"
  },
  "language_info": {
   "codemirror_mode": {
    "name": "ipython",
    "version": 3
   },
   "file_extension": ".py",
   "mimetype": "text/x-python",
   "name": "python",
   "nbconvert_exporter": "python",
   "pygments_lexer": "ipython3",
   "version": "3.10.9"
  }
 },
 "nbformat": 4,
 "nbformat_minor": 5
}
